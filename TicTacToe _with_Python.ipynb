{
 "cells": [
  {
   "cell_type": "code",
   "execution_count": 2,
   "metadata": {},
   "outputs": [],
   "source": [
    "from IPython.display import clear_output\n",
    "\n",
    "def display_board(board):\n",
    "    \n",
    "    '''\n",
    "    DOCSTRING: This fuction print out a board for the game Tic Tac Toe. The board is setup as a list, \n",
    "    where each index 1-9 corresponds with a number on a number pad, so you get a 3 by 3 board representation.\n",
    "    INPUT: list \n",
    "    OUTPUT: 3 x 3 represntation of the list.\n",
    "    '''   \n",
    "    clear_output()\n",
    "    \n",
    "    print(board[7] + '  | ' + board[8] + ' | ' + board[9])\n",
    "    print('---|---|---')\n",
    "    print(board[4] + '  | ' + board[5] + ' | ' + board[6])\n",
    "    print('---|---|---')\n",
    "    print(board[1] + '  | ' + board[2] + ' | ' + board[3])\n",
    "    \n",
    "    "
   ]
  },
  {
   "cell_type": "code",
   "execution_count": null,
   "metadata": {},
   "outputs": [],
   "source": [
    "# test_board = ['#','X','O','X','O','X','O','X','O','X']\n",
    "test_board = [\" \"]*10\n",
    "display_board(test_board)"
   ]
  },
  {
   "cell_type": "code",
   "execution_count": 3,
   "metadata": {},
   "outputs": [],
   "source": [
    "def player_input():\n",
    "    \n",
    "    '''\n",
    "      DOCSTRING: Marker setting for Player 1 and Player 2.\n",
    "      INPUT: NONE\n",
    "      OUTPUT: TUPLE ('X', 'O') or ('O', 'X') ... first item player 1 marker and 2nd item player 2 item. \n",
    "    '''\n",
    "    \n",
    "    \n",
    "    player_marker = \" \"\n",
    "    \n",
    "      \n",
    "    while not (player_marker  == 'X' or player_marker  == 'O'):\n",
    "        player_marker = input(\"Player1, please select your marker from X or O: \").upper()\n",
    "\n",
    "    if player_marker == 'X':\n",
    "        return 'X', 'O'\n",
    "    else:\n",
    "        return 'O', 'X'\n",
    "        \n",
    "    "
   ]
  },
  {
   "cell_type": "code",
   "execution_count": null,
   "metadata": {},
   "outputs": [],
   "source": [
    "player1, player2 = player_input()\n",
    "\n",
    "\n",
    "print(f\"Player1 chose: {player1} and Player2 chose: {player2}\")\n"
   ]
  },
  {
   "cell_type": "code",
   "execution_count": 4,
   "metadata": {},
   "outputs": [],
   "source": [
    "def place_marker(board, marker, position):\n",
    "    \n",
    "    if marker == 'X' or marker == 'O':\n",
    "        print('marker {marker}')\n",
    "        board[position] = marker\n",
    "    \n",
    "        \n",
    "        \n",
    "        \n",
    "        \n",
    "        "
   ]
  },
  {
   "cell_type": "code",
   "execution_count": 87,
   "metadata": {},
   "outputs": [
    {
     "name": "stdout",
     "output_type": "stream",
     "text": [
      "   |   |  \n",
      "---|---|---\n",
      "   |   |  \n",
      "---|---|---\n",
      "   | X |  \n"
     ]
    }
   ],
   "source": [
    "test_board = [' '] * 10\n",
    "place_marker(test_board,'X',2)\n",
    "\n",
    "#test_board[8] = ' '\n",
    "display_board(test_board)\n",
    "\n",
    "#print(test_board)"
   ]
  },
  {
   "cell_type": "code",
   "execution_count": 5,
   "metadata": {},
   "outputs": [],
   "source": [
    "def win_check(board, mark):\n",
    "    \n",
    "    if ((board[1] == board[2] == board[3] == mark) or\n",
    "        (board[4] == board[5] == board[6] == mark) or\n",
    "        (board[7] == board[8] == board[9] == mark) or\n",
    "        (board[1] == board[4] == board[7] == mark) or\n",
    "        (board[2] == board[5] == board[8] == mark) or\n",
    "        (board[3] == board[6] == board[9] == mark) or\n",
    "        (board[1] == board[5] == board[9] == mark) or\n",
    "        (board[3] == board[5] == board[7] == mark)):\n",
    "            return True\n",
    "    else:\n",
    "        return False\n",
    "         "
   ]
  },
  {
   "cell_type": "code",
   "execution_count": 17,
   "metadata": {},
   "outputs": [
    {
     "data": {
      "text/plain": [
       "True"
      ]
     },
     "execution_count": 17,
     "metadata": {},
     "output_type": "execute_result"
    }
   ],
   "source": [
    "test_board = ['#','X', 'O', 'X', 'X','O','O','X','X','O']\n",
    "              \n",
    "win_check(test_board,'X')\n",
    "\n"
   ]
  },
  {
   "cell_type": "code",
   "execution_count": 6,
   "metadata": {},
   "outputs": [],
   "source": [
    "from random import randint\n",
    "\n",
    "def choose_first():\n",
    "\n",
    "    if randint(1,2) == 1:\n",
    "        return 'Player 1'\n",
    "    else:\n",
    "        return 'Player 2'\n",
    "    "
   ]
  },
  {
   "cell_type": "code",
   "execution_count": null,
   "metadata": {},
   "outputs": [],
   "source": [
    "player = choose_first()\n",
    "print(player)"
   ]
  },
  {
   "cell_type": "code",
   "execution_count": 7,
   "metadata": {},
   "outputs": [],
   "source": [
    "def space_check(board, position):\n",
    "    if board[position] == ' ':\n",
    "        return True\n",
    "    else:\n",
    "        return False\n",
    "        \n",
    "    \n",
    "\n",
    "\n",
    "        "
   ]
  },
  {
   "cell_type": "code",
   "execution_count": 80,
   "metadata": {},
   "outputs": [
    {
     "name": "stdout",
     "output_type": "stream",
     "text": [
      "['#', 'X', ' O', 'O ', 'X', 'O', 'O', 'X', 'X', 'O']\n"
     ]
    },
    {
     "data": {
      "text/plain": [
       "False"
      ]
     },
     "execution_count": 80,
     "metadata": {},
     "output_type": "execute_result"
    }
   ],
   "source": [
    "test_board = ['#','X', ' O', 'O ', 'X','O','O','X','X','O']\n",
    "#test_board = [\"#\", \"X\", \" \"]\n",
    "\n",
    "\n",
    "#position = 2\n",
    "\n",
    "print(test_board)\n",
    "\n",
    "space_check(test_board, 2)"
   ]
  },
  {
   "cell_type": "code",
   "execution_count": 8,
   "metadata": {},
   "outputs": [],
   "source": [
    "def full_board_check(board):\n",
    "    \n",
    "    for i in range(0, len(board)):\n",
    "        if space_check(board, i):\n",
    "            return False\n",
    "        \n",
    "    return True    \n",
    "    "
   ]
  },
  {
   "cell_type": "code",
   "execution_count": 83,
   "metadata": {},
   "outputs": [
    {
     "data": {
      "text/plain": [
       "True"
      ]
     },
     "execution_count": 83,
     "metadata": {},
     "output_type": "execute_result"
    }
   ],
   "source": [
    "test_board = ['#','X', 'O ', 'X', 'X','O','O','X','X','O']\n",
    "\n",
    "full_board_check(test_board)"
   ]
  },
  {
   "cell_type": "code",
   "execution_count": 16,
   "metadata": {},
   "outputs": [],
   "source": [
    "def player_choice(board):\n",
    "    \n",
    "    next_move = int(input(\"Please enter next position (from 1 to 9): \"))\n",
    "    \n",
    "    empty = space_check(board, next_move)\n",
    "    \n",
    "    if empty == True:\n",
    "        return next_move\n",
    "    else:\n",
    "        return 0"
   ]
  },
  {
   "cell_type": "code",
   "execution_count": 17,
   "metadata": {},
   "outputs": [
    {
     "name": "stdout",
     "output_type": "stream",
     "text": [
      "Please enter next position (from 1 to 9): 5\n"
     ]
    },
    {
     "data": {
      "text/plain": [
       "0"
      ]
     },
     "execution_count": 17,
     "metadata": {},
     "output_type": "execute_result"
    }
   ],
   "source": [
    "test_board = ['#',' ', ' O', 'X', 'X','O',' ','X','X','O']\n",
    "\n",
    "player_choice(test_board)"
   ]
  },
  {
   "cell_type": "code",
   "execution_count": 10,
   "metadata": {},
   "outputs": [],
   "source": [
    "def replay():\n",
    "    \n",
    "    choice = ' '\n",
    "    while choice != 'Yes' and choice !='No':\n",
    "        choice = input(\"Still want to play (Yes, No)?  \").capitalize()\n",
    "    \n",
    "    if choice == 'Yes':\n",
    "        return True\n",
    "    else:\n",
    "        return False\n",
    "        "
   ]
  },
  {
   "cell_type": "code",
   "execution_count": null,
   "metadata": {},
   "outputs": [],
   "source": [
    "replay()"
   ]
  },
  {
   "cell_type": "code",
   "execution_count": 19,
   "metadata": {},
   "outputs": [
    {
     "name": "stdout",
     "output_type": "stream",
     "text": [
      "X  |   |  \n",
      "---|---|---\n",
      "   | X | O\n",
      "---|---|---\n",
      "O  | O | X\n",
      "Player 2 has won!\n",
      "Still want to play (Yes, No)?  no\n"
     ]
    }
   ],
   "source": [
    "print('Welcome to Tic Tac Toe!!!')\n",
    "\n",
    "while True:\n",
    "    \n",
    "    board = [' '] * 10\n",
    "    player1_marker, player2_marker = player_input()\n",
    "    \n",
    "    player_turn = choose_first()\n",
    "    print(f'\\n {player_turn} goes first.')\n",
    "    \n",
    "    \n",
    "    \n",
    "    play_game = ' '\n",
    "    while not (play_game == 'Yes' or play_game == 'No'):\n",
    "        play_game = input(\"Are you ready to play (Yes or No): \").capitalize()\n",
    "    \n",
    "    if play_game == 'Yes':\n",
    "        game_on = True\n",
    "    else:\n",
    "        game_on = False\n",
    "        \n",
    "    \n",
    "    while game_on:\n",
    "        if player_turn == 'Player 1':\n",
    "            print(\"Player 1 trun...\")\n",
    "            \n",
    "            display_board(board)\n",
    "            \n",
    "            position = player_choice(board)\n",
    "            \n",
    "            print(f\"Player 1 chose: {position}\")\n",
    "            \n",
    "            place_marker(board, player1_marker, position)\n",
    "            \n",
    "            if win_check(board, player1_marker):\n",
    "                display_board(board)\n",
    "                print(\"Player 1 has won!\")\n",
    "                game_on = False\n",
    "            else:\n",
    "                if full_board_check(board):\n",
    "                    display_board(board)\n",
    "                    print(\"The game is a tie!!!\")\n",
    "                    break\n",
    "                else:\n",
    "                    player_turn = 'Player 2'\n",
    "        else:\n",
    "            print(\"Player 2 turn..\")\n",
    "            display_board(board)\n",
    "            position = player_choice(board)\n",
    "            place_marker(board, player2_marker, position)\n",
    "            \n",
    "            if win_check(board, player2_marker):\n",
    "                display_board(board)\n",
    "                print('Player 2 has won!')\n",
    "                game_on = False \n",
    "            else:\n",
    "                if full_board_check(board):\n",
    "                    display_board(board)\n",
    "                    print('The game is a draw!')\n",
    "                    break\n",
    "                else:\n",
    "                    player_turn = 'Player 1'\n",
    "            \n",
    "            \n",
    "                        \n",
    "            \n",
    "    if not replay():\n",
    "        break\n"
   ]
  },
  {
   "cell_type": "code",
   "execution_count": null,
   "metadata": {},
   "outputs": [],
   "source": []
  }
 ],
 "metadata": {
  "kernelspec": {
   "display_name": "Python 3",
   "language": "python",
   "name": "python3"
  },
  "language_info": {
   "codemirror_mode": {
    "name": "ipython",
    "version": 3
   },
   "file_extension": ".py",
   "mimetype": "text/x-python",
   "name": "python",
   "nbconvert_exporter": "python",
   "pygments_lexer": "ipython3",
   "version": "3.7.0"
  }
 },
 "nbformat": 4,
 "nbformat_minor": 2
}
